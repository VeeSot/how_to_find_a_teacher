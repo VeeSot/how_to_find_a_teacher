{
 "cells": [
  {
   "cell_type": "code",
   "execution_count": 1,
   "metadata": {},
   "outputs": [
    {
     "name": "stderr",
     "output_type": "stream",
     "text": [
      "Using TensorFlow backend.\n",
      "/home/user/devel/projects/flaty/parser/env/lib/python3.7/site-packages/tensorflow/python/framework/dtypes.py:516: FutureWarning: Passing (type, 1) or '1type' as a synonym of type is deprecated; in a future version of numpy, it will be understood as (type, (1,)) / '(1,)type'.\n",
      "  _np_qint8 = np.dtype([(\"qint8\", np.int8, 1)])\n",
      "/home/user/devel/projects/flaty/parser/env/lib/python3.7/site-packages/tensorflow/python/framework/dtypes.py:517: FutureWarning: Passing (type, 1) or '1type' as a synonym of type is deprecated; in a future version of numpy, it will be understood as (type, (1,)) / '(1,)type'.\n",
      "  _np_quint8 = np.dtype([(\"quint8\", np.uint8, 1)])\n",
      "/home/user/devel/projects/flaty/parser/env/lib/python3.7/site-packages/tensorflow/python/framework/dtypes.py:518: FutureWarning: Passing (type, 1) or '1type' as a synonym of type is deprecated; in a future version of numpy, it will be understood as (type, (1,)) / '(1,)type'.\n",
      "  _np_qint16 = np.dtype([(\"qint16\", np.int16, 1)])\n",
      "/home/user/devel/projects/flaty/parser/env/lib/python3.7/site-packages/tensorflow/python/framework/dtypes.py:519: FutureWarning: Passing (type, 1) or '1type' as a synonym of type is deprecated; in a future version of numpy, it will be understood as (type, (1,)) / '(1,)type'.\n",
      "  _np_quint16 = np.dtype([(\"quint16\", np.uint16, 1)])\n",
      "/home/user/devel/projects/flaty/parser/env/lib/python3.7/site-packages/tensorflow/python/framework/dtypes.py:520: FutureWarning: Passing (type, 1) or '1type' as a synonym of type is deprecated; in a future version of numpy, it will be understood as (type, (1,)) / '(1,)type'.\n",
      "  _np_qint32 = np.dtype([(\"qint32\", np.int32, 1)])\n",
      "/home/user/devel/projects/flaty/parser/env/lib/python3.7/site-packages/tensorflow/python/framework/dtypes.py:525: FutureWarning: Passing (type, 1) or '1type' as a synonym of type is deprecated; in a future version of numpy, it will be understood as (type, (1,)) / '(1,)type'.\n",
      "  np_resource = np.dtype([(\"resource\", np.ubyte, 1)])\n",
      "/home/user/devel/projects/flaty/parser/env/lib/python3.7/site-packages/tensorboard/compat/tensorflow_stub/dtypes.py:541: FutureWarning: Passing (type, 1) or '1type' as a synonym of type is deprecated; in a future version of numpy, it will be understood as (type, (1,)) / '(1,)type'.\n",
      "  _np_qint8 = np.dtype([(\"qint8\", np.int8, 1)])\n",
      "/home/user/devel/projects/flaty/parser/env/lib/python3.7/site-packages/tensorboard/compat/tensorflow_stub/dtypes.py:542: FutureWarning: Passing (type, 1) or '1type' as a synonym of type is deprecated; in a future version of numpy, it will be understood as (type, (1,)) / '(1,)type'.\n",
      "  _np_quint8 = np.dtype([(\"quint8\", np.uint8, 1)])\n",
      "/home/user/devel/projects/flaty/parser/env/lib/python3.7/site-packages/tensorboard/compat/tensorflow_stub/dtypes.py:543: FutureWarning: Passing (type, 1) or '1type' as a synonym of type is deprecated; in a future version of numpy, it will be understood as (type, (1,)) / '(1,)type'.\n",
      "  _np_qint16 = np.dtype([(\"qint16\", np.int16, 1)])\n",
      "/home/user/devel/projects/flaty/parser/env/lib/python3.7/site-packages/tensorboard/compat/tensorflow_stub/dtypes.py:544: FutureWarning: Passing (type, 1) or '1type' as a synonym of type is deprecated; in a future version of numpy, it will be understood as (type, (1,)) / '(1,)type'.\n",
      "  _np_quint16 = np.dtype([(\"quint16\", np.uint16, 1)])\n",
      "/home/user/devel/projects/flaty/parser/env/lib/python3.7/site-packages/tensorboard/compat/tensorflow_stub/dtypes.py:545: FutureWarning: Passing (type, 1) or '1type' as a synonym of type is deprecated; in a future version of numpy, it will be understood as (type, (1,)) / '(1,)type'.\n",
      "  _np_qint32 = np.dtype([(\"qint32\", np.int32, 1)])\n",
      "/home/user/devel/projects/flaty/parser/env/lib/python3.7/site-packages/tensorboard/compat/tensorflow_stub/dtypes.py:550: FutureWarning: Passing (type, 1) or '1type' as a synonym of type is deprecated; in a future version of numpy, it will be understood as (type, (1,)) / '(1,)type'.\n",
      "  np_resource = np.dtype([(\"resource\", np.ubyte, 1)])\n"
     ]
    }
   ],
   "source": [
    "import json\n",
    "import pandas as pd\n",
    "from nltk.corpus import stopwords\n",
    "from nltk import word_tokenize, pos_tag\n",
    "from keras.models import load_model\n",
    "from keras.preprocessing.sequence import pad_sequences\n",
    "import matplotlib.pyplot as plt\n",
    "import seaborn as sns\n",
    "import numpy as np\n",
    "import re\n",
    "import pickle\n",
    "import requests\n",
    "from time import sleep\n",
    "from random import randint\n",
    "from langdetect import detect\n",
    "\n",
    "sns.set(style=\"darkgrid\")"
   ]
  },
  {
   "cell_type": "markdown",
   "metadata": {},
   "source": [
    "# Step 1. A rough filter"
   ]
  },
  {
   "cell_type": "code",
   "execution_count": 2,
   "metadata": {},
   "outputs": [],
   "source": [
    "step_1 = 'step_1.json'\n",
    "with open(step_1) as json_data:\n",
    "    records = json.loads(json_data.read())\n",
    "df = pd.DataFrame.from_records(records)\n",
    "df = df.drop(columns=['living_country_id','pro_rating','language_strength',\n",
    "                      'hour_per_week','finished_session_last_3_months','nickname'])\n",
    "df['teacher_id'] = df['user_id']\n",
    "df['country'] = df['origin_country_id']\n",
    "df.drop(columns=['origin_country_id','user_id'], inplace=True)\n",
    "\n",
    "\n"
   ]
  },
  {
   "cell_type": "code",
   "execution_count": 3,
   "metadata": {},
   "outputs": [
    {
     "data": {
      "text/html": [
       "<div>\n",
       "<style scoped>\n",
       "    .dataframe tbody tr th:only-of-type {\n",
       "        vertical-align: middle;\n",
       "    }\n",
       "\n",
       "    .dataframe tbody tr th {\n",
       "        vertical-align: top;\n",
       "    }\n",
       "\n",
       "    .dataframe thead th {\n",
       "        text-align: right;\n",
       "    }\n",
       "</style>\n",
       "<table border=\"1\" class=\"dataframe\">\n",
       "  <thead>\n",
       "    <tr style=\"text-align: right;\">\n",
       "      <th></th>\n",
       "      <th>about_me</th>\n",
       "      <th>about_teacher</th>\n",
       "      <th>finished_session</th>\n",
       "      <th>introduction</th>\n",
       "      <th>pro_course_detail</th>\n",
       "      <th>teaching_style</th>\n",
       "      <th>teacher_id</th>\n",
       "      <th>country</th>\n",
       "    </tr>\n",
       "  </thead>\n",
       "  <tbody>\n",
       "    <tr>\n",
       "      <th>0</th>\n",
       "      <td>Hello everyone!\\nMy name is Jeremy. I'm a nati...</td>\n",
       "      <td>I currently also work for a global language sc...</td>\n",
       "      <td>22</td>\n",
       "      <td></td>\n",
       "      <td>[{'teacher_id': 5754348, 'language': 'english'...</td>\n",
       "      <td>My main goal with students is to improve their...</td>\n",
       "      <td>5754348</td>\n",
       "      <td>CA</td>\n",
       "    </tr>\n",
       "    <tr>\n",
       "      <th>1</th>\n",
       "      <td>My name is Dave and I'm a CELTA and TEFL certi...</td>\n",
       "      <td>I have been teaching English as a foreign lang...</td>\n",
       "      <td>1198</td>\n",
       "      <td></td>\n",
       "      <td>[{'teacher_id': 3019343, 'language': 'english'...</td>\n",
       "      <td>Having reached the C2 level in Spanish, I have...</td>\n",
       "      <td>3019343</td>\n",
       "      <td>US</td>\n",
       "    </tr>\n",
       "    <tr>\n",
       "      <th>2</th>\n",
       "      <td>Hello!\\nMy name is Ryan and I have been an ESL...</td>\n",
       "      <td>I have been teaching English for 3 years. In T...</td>\n",
       "      <td>137</td>\n",
       "      <td></td>\n",
       "      <td>[{'teacher_id': 6512293, 'language': 'english'...</td>\n",
       "      <td>You will notice that I put a lot of focus on p...</td>\n",
       "      <td>6512293</td>\n",
       "      <td>CA</td>\n",
       "    </tr>\n",
       "    <tr>\n",
       "      <th>3</th>\n",
       "      <td>I am a qualified language teacher. I hold an M...</td>\n",
       "      <td>As a tutor, I try to stay open to new ideas an...</td>\n",
       "      <td>108</td>\n",
       "      <td></td>\n",
       "      <td>[{'teacher_id': 4089517, 'language': 'english'...</td>\n",
       "      <td>My classes are well structured and based on th...</td>\n",
       "      <td>4089517</td>\n",
       "      <td>AM</td>\n",
       "    </tr>\n",
       "    <tr>\n",
       "      <th>4</th>\n",
       "      <td>My name is Sarah and I'm from Cornwall in the ...</td>\n",
       "      <td>I have been teaching since 2013 when I went to...</td>\n",
       "      <td>97</td>\n",
       "      <td></td>\n",
       "      <td>[{'teacher_id': 6581705, 'language': 'english'...</td>\n",
       "      <td>I teach all levels. The lessons are designed f...</td>\n",
       "      <td>6581705</td>\n",
       "      <td>GB</td>\n",
       "    </tr>\n",
       "  </tbody>\n",
       "</table>\n",
       "</div>"
      ],
      "text/plain": [
       "                                            about_me  \\\n",
       "0  Hello everyone!\\nMy name is Jeremy. I'm a nati...   \n",
       "1  My name is Dave and I'm a CELTA and TEFL certi...   \n",
       "2  Hello!\\nMy name is Ryan and I have been an ESL...   \n",
       "3  I am a qualified language teacher. I hold an M...   \n",
       "4  My name is Sarah and I'm from Cornwall in the ...   \n",
       "\n",
       "                                       about_teacher  finished_session  \\\n",
       "0  I currently also work for a global language sc...                22   \n",
       "1  I have been teaching English as a foreign lang...              1198   \n",
       "2  I have been teaching English for 3 years. In T...               137   \n",
       "3  As a tutor, I try to stay open to new ideas an...               108   \n",
       "4  I have been teaching since 2013 when I went to...                97   \n",
       "\n",
       "  introduction                                  pro_course_detail  \\\n",
       "0               [{'teacher_id': 5754348, 'language': 'english'...   \n",
       "1               [{'teacher_id': 3019343, 'language': 'english'...   \n",
       "2               [{'teacher_id': 6512293, 'language': 'english'...   \n",
       "3               [{'teacher_id': 4089517, 'language': 'english'...   \n",
       "4               [{'teacher_id': 6581705, 'language': 'english'...   \n",
       "\n",
       "                                      teaching_style  teacher_id country  \n",
       "0  My main goal with students is to improve their...     5754348      CA  \n",
       "1  Having reached the C2 level in Spanish, I have...     3019343      US  \n",
       "2  You will notice that I put a lot of focus on p...     6512293      CA  \n",
       "3  My classes are well structured and based on th...     4089517      AM  \n",
       "4  I teach all levels. The lessons are designed f...     6581705      GB  "
      ]
     },
     "execution_count": 3,
     "metadata": {},
     "output_type": "execute_result"
    }
   ],
   "source": [
    "df.head()"
   ]
  },
  {
   "cell_type": "code",
   "execution_count": 4,
   "metadata": {},
   "outputs": [
    {
     "data": {
      "text/html": [
       "<div>\n",
       "<style scoped>\n",
       "    .dataframe tbody tr th:only-of-type {\n",
       "        vertical-align: middle;\n",
       "    }\n",
       "\n",
       "    .dataframe tbody tr th {\n",
       "        vertical-align: top;\n",
       "    }\n",
       "\n",
       "    .dataframe thead th {\n",
       "        text-align: right;\n",
       "    }\n",
       "</style>\n",
       "<table border=\"1\" class=\"dataframe\">\n",
       "  <thead>\n",
       "    <tr style=\"text-align: right;\">\n",
       "      <th></th>\n",
       "      <th>finished_session</th>\n",
       "      <th>teacher_id</th>\n",
       "    </tr>\n",
       "  </thead>\n",
       "  <tbody>\n",
       "    <tr>\n",
       "      <th>count</th>\n",
       "      <td>1000.000000</td>\n",
       "      <td>1.000000e+03</td>\n",
       "    </tr>\n",
       "    <tr>\n",
       "      <th>mean</th>\n",
       "      <td>1253.193000</td>\n",
       "      <td>4.126967e+06</td>\n",
       "    </tr>\n",
       "    <tr>\n",
       "      <th>std</th>\n",
       "      <td>1825.903209</td>\n",
       "      <td>1.784199e+06</td>\n",
       "    </tr>\n",
       "    <tr>\n",
       "      <th>min</th>\n",
       "      <td>0.000000</td>\n",
       "      <td>1.297730e+05</td>\n",
       "    </tr>\n",
       "    <tr>\n",
       "      <th>25%</th>\n",
       "      <td>162.750000</td>\n",
       "      <td>2.882794e+06</td>\n",
       "    </tr>\n",
       "    <tr>\n",
       "      <th>50%</th>\n",
       "      <td>614.000000</td>\n",
       "      <td>4.347498e+06</td>\n",
       "    </tr>\n",
       "    <tr>\n",
       "      <th>75%</th>\n",
       "      <td>1672.500000</td>\n",
       "      <td>5.663898e+06</td>\n",
       "    </tr>\n",
       "    <tr>\n",
       "      <th>max</th>\n",
       "      <td>15921.000000</td>\n",
       "      <td>6.896142e+06</td>\n",
       "    </tr>\n",
       "  </tbody>\n",
       "</table>\n",
       "</div>"
      ],
      "text/plain": [
       "       finished_session    teacher_id\n",
       "count       1000.000000  1.000000e+03\n",
       "mean        1253.193000  4.126967e+06\n",
       "std         1825.903209  1.784199e+06\n",
       "min            0.000000  1.297730e+05\n",
       "25%          162.750000  2.882794e+06\n",
       "50%          614.000000  4.347498e+06\n",
       "75%         1672.500000  5.663898e+06\n",
       "max        15921.000000  6.896142e+06"
      ]
     },
     "execution_count": 4,
     "metadata": {},
     "output_type": "execute_result"
    }
   ],
   "source": [
    "df.describe()"
   ]
  },
  {
   "cell_type": "code",
   "execution_count": null,
   "metadata": {},
   "outputs": [],
   "source": []
  },
  {
   "cell_type": "code",
   "execution_count": 5,
   "metadata": {},
   "outputs": [],
   "source": [
    "df['price_1h'] = 0.0\n",
    "df['package'] = 0.0\n",
    "hour_session_id = 4\n",
    "for i, row in df.iterrows():\n",
    "    classes = row.pro_course_detail\n",
    "    if not classes:\n",
    "        continue\n",
    "    for _class in classes:\n",
    "        title = _class['title']\n",
    "        if 'FCE' in title or 'CAE' in title or 'Cambridge' in title \\\n",
    "                or 'Exam' in title:\n",
    "            prices_list = _class['price_list']\n",
    "            for price in prices_list:\n",
    "                if price['session_length'] == hour_session_id:\n",
    "                    df.at[i, 'price_1h'] = price['session_price']\n",
    "                    package = price.get('package_price')\n",
    "                    if package:\n",
    "                        package_size = price['package_length']\n",
    "                        df.at[i, 'package'] = package/package_size/100\n",
    "                    else:\n",
    "                        df.at[i, 'package'] = price['session_price']/100\n",
    "\n",
    "df['price_1h'] = df['price_1h'].astype(float)\n",
    "df['package'] = df['package'].astype(float)\n",
    "df = df[df['price_1h'] > 0]\n",
    "df['price_1h'] = df['price_1h'] / 100\n",
    "df = df[df['package'] <= 20]"
   ]
  },
  {
   "cell_type": "code",
   "execution_count": 6,
   "metadata": {
    "scrolled": false
   },
   "outputs": [
    {
     "data": {
      "text/plain": [
       "<matplotlib.axes._subplots.AxesSubplot at 0x7f80c1338b50>"
      ]
     },
     "execution_count": 6,
     "metadata": {},
     "output_type": "execute_result"
    },
    {
     "data": {
      "image/png": "[encoded data removed]",
      "text/plain": [
       "<Figure size 1080x792 with 1 Axes>"
      ]
     },
     "metadata": {
      "needs_background": "light"
     },
     "output_type": "display_data"
    }
   ],
   "source": [
    "f, g = plt.subplots(figsize=(15, 11))\n",
    "sns.countplot(x='country', data=df, order=df['country'].value_counts().index)\n"
   ]
  },
  {
   "cell_type": "code",
   "execution_count": 7,
   "metadata": {
    "scrolled": true
   },
   "outputs": [],
   "source": [
    "second_step = 'step_2.json'\n",
    "df.to_json(second_step, orient='records')"
   ]
  },
  {
   "cell_type": "markdown",
   "metadata": {},
   "source": [
    "# Step 2. Filtering by description"
   ]
  },
  {
   "cell_type": "code",
   "execution_count": 8,
   "metadata": {},
   "outputs": [],
   "source": [
    "with open(second_step) as json_data:\n",
    "    records = json.loads(json_data.read())\n",
    "df = pd.DataFrame.from_records(records)"
   ]
  },
  {
   "cell_type": "code",
   "execution_count": 9,
   "metadata": {},
   "outputs": [],
   "source": [
    "def filter_df(df, word, fields):\n",
    "    mask_size = df.shape[0]\n",
    "    mask = np.zeros(mask_size, dtype=bool)\n",
    "    for field in fields:\n",
    "        sub_mask = df[field].str.contains(word, flags=re.IGNORECASE)\n",
    "        mask = mask | sub_mask\n",
    "    return mask"
   ]
  },
  {
   "cell_type": "code",
   "execution_count": 10,
   "metadata": {},
   "outputs": [],
   "source": [
    "description_fields = ['introduction', 'about_me', 'about_teacher',\n",
    "                      'teaching_style']"
   ]
  },
  {
   "cell_type": "code",
   "execution_count": 11,
   "metadata": {},
   "outputs": [],
   "source": [
    "mask1 = filter_df(df, \"I've been teaching\", description_fields)\n",
    "mask2 = filter_df(df, 'I have been teaching', description_fields)\n",
    "mask3 = filter_df(df, 'Homework', description_fields)\n",
    "mask = (mask1 | mask2) & mask3"
   ]
  },
  {
   "cell_type": "code",
   "execution_count": 12,
   "metadata": {},
   "outputs": [],
   "source": [
    "df = df[mask]"
   ]
  },
  {
   "cell_type": "code",
   "execution_count": 13,
   "metadata": {},
   "outputs": [
    {
     "data": {
      "text/plain": [
       "<matplotlib.axes._subplots.AxesSubplot at 0x7f80c18afc90>"
      ]
     },
     "execution_count": 13,
     "metadata": {},
     "output_type": "execute_result"
    },
    {
     "data": {
      "image/png": "[encoded data removed]",
      "text/plain": [
       "<Figure size 576x576 with 1 Axes>"
      ]
     },
     "metadata": {},
     "output_type": "display_data"
    }
   ],
   "source": [
    "countries = df.groupby('country').size()\n",
    "countries.plot(kind='pie', title='Number of teachers from different countries',\n",
    "               figsize=[8, 8],\n",
    "               autopct=lambda v: '{:.0f}'.format((v / 100) * countries.sum()))"
   ]
  },
  {
   "cell_type": "code",
   "execution_count": null,
   "metadata": {},
   "outputs": [],
   "source": []
  },
  {
   "cell_type": "code",
   "execution_count": 14,
   "metadata": {},
   "outputs": [],
   "source": [
    "third_step = 'step_3.json'\n",
    "df.to_json(third_step, orient='records')"
   ]
  },
  {
   "cell_type": "code",
   "execution_count": null,
   "metadata": {},
   "outputs": [],
   "source": []
  },
  {
   "cell_type": "markdown",
   "metadata": {},
   "source": [
    "# Step 3. Working with reviews"
   ]
  },
  {
   "cell_type": "code",
   "execution_count": 15,
   "metadata": {},
   "outputs": [],
   "source": [
    "with open(third_step) as json_data:\n",
    "    records = json.loads(json_data.read())\n",
    "df = pd.DataFrame.from_records(records)"
   ]
  },
  {
   "cell_type": "code",
   "execution_count": 16,
   "metadata": {},
   "outputs": [
    {
     "data": {
      "text/html": [
       "<div>\n",
       "<style scoped>\n",
       "    .dataframe tbody tr th:only-of-type {\n",
       "        vertical-align: middle;\n",
       "    }\n",
       "\n",
       "    .dataframe tbody tr th {\n",
       "        vertical-align: top;\n",
       "    }\n",
       "\n",
       "    .dataframe thead th {\n",
       "        text-align: right;\n",
       "    }\n",
       "</style>\n",
       "<table border=\"1\" class=\"dataframe\">\n",
       "  <thead>\n",
       "    <tr style=\"text-align: right;\">\n",
       "      <th></th>\n",
       "      <th>about_me</th>\n",
       "      <th>about_teacher</th>\n",
       "      <th>country</th>\n",
       "      <th>finished_session</th>\n",
       "      <th>introduction</th>\n",
       "      <th>package</th>\n",
       "      <th>price_1h</th>\n",
       "      <th>pro_course_detail</th>\n",
       "      <th>teacher_id</th>\n",
       "      <th>teaching_style</th>\n",
       "    </tr>\n",
       "  </thead>\n",
       "  <tbody>\n",
       "    <tr>\n",
       "      <th>0</th>\n",
       "      <td>My job is my passion! I like teaching language...</td>\n",
       "      <td>I have been teaching Greek, English and French...</td>\n",
       "      <td>GR</td>\n",
       "      <td>1054</td>\n",
       "      <td>I am a professional online English and French ...</td>\n",
       "      <td>18.0</td>\n",
       "      <td>20.0</td>\n",
       "      <td>[{'teacher_id': 1642736, 'language': 'english'...</td>\n",
       "      <td>1642736</td>\n",
       "      <td>I am trying to cover in an hour as much as I c...</td>\n",
       "    </tr>\n",
       "    <tr>\n",
       "      <th>1</th>\n",
       "      <td>Hello!\\nMy name is Svetlana. I am from Russia....</td>\n",
       "      <td>My first teaching experience was long time ago...</td>\n",
       "      <td>RU</td>\n",
       "      <td>670</td>\n",
       "      <td></td>\n",
       "      <td>17.0</td>\n",
       "      <td>18.0</td>\n",
       "      <td>[{'teacher_id': 1810343, 'language': 'english'...</td>\n",
       "      <td>1810343</td>\n",
       "      <td>Every course starts with a small talk where I ...</td>\n",
       "    </tr>\n",
       "    <tr>\n",
       "      <th>2</th>\n",
       "      <td>I am a very curious and creative person. I lov...</td>\n",
       "      <td>* I love talking about different topics, learn...</td>\n",
       "      <td>BR</td>\n",
       "      <td>935</td>\n",
       "      <td>// PORTUGUÊS \\nEu ensino inglês e português, a...</td>\n",
       "      <td>19.0</td>\n",
       "      <td>20.0</td>\n",
       "      <td>[{'teacher_id': 2929765, 'language': 'english'...</td>\n",
       "      <td>2929765</td>\n",
       "      <td>English - EXCLUSIVE WEB PLATFORM / PLATAFORMA ...</td>\n",
       "    </tr>\n",
       "    <tr>\n",
       "      <th>3</th>\n",
       "      <td>I am a professional teacher with more than 10 ...</td>\n",
       "      <td>I have been teaching languages since my second...</td>\n",
       "      <td>ES</td>\n",
       "      <td>573</td>\n",
       "      <td>I have been teaching languages since my second...</td>\n",
       "      <td>15.3</td>\n",
       "      <td>17.0</td>\n",
       "      <td>[{'teacher_id': 4773880, 'language': 'english'...</td>\n",
       "      <td>4773880</td>\n",
       "      <td>My style is really communicative and always ma...</td>\n",
       "    </tr>\n",
       "    <tr>\n",
       "      <th>4</th>\n",
       "      <td>I am a bilingual English teacher with a teachi...</td>\n",
       "      <td>I'd love to work with you if you:\\n\\n*** are a...</td>\n",
       "      <td>ZZ</td>\n",
       "      <td>246</td>\n",
       "      <td></td>\n",
       "      <td>19.0</td>\n",
       "      <td>19.0</td>\n",
       "      <td>[{'teacher_id': 5335629, 'language': 'english'...</td>\n",
       "      <td>5335629</td>\n",
       "      <td>When you learn English with me:\\n\\n✓ you SPEAK...</td>\n",
       "    </tr>\n",
       "    <tr>\n",
       "      <th>5</th>\n",
       "      <td>Hi, I am a native speaker from South Africa. I...</td>\n",
       "      <td>I tend to structure my sessions according to m...</td>\n",
       "      <td>ZA</td>\n",
       "      <td>7706</td>\n",
       "      <td>About me:\\nI am an experienced English teacher...</td>\n",
       "      <td>14.0</td>\n",
       "      <td>16.0</td>\n",
       "      <td>[{'teacher_id': 1169629, 'language': 'english'...</td>\n",
       "      <td>1169629</td>\n",
       "      <td>*Informal Tutoring:\\nConversation practice (he...</td>\n",
       "    </tr>\n",
       "    <tr>\n",
       "      <th>6</th>\n",
       "      <td>✔ Speak Spanish with confidence, fluency, and ...</td>\n",
       "      <td>As a certified teacher for teaching, I have ex...</td>\n",
       "      <td>BO</td>\n",
       "      <td>2005</td>\n",
       "      <td>Thanks for to visit my profile. Spanish and En...</td>\n",
       "      <td>12.0</td>\n",
       "      <td>12.0</td>\n",
       "      <td>[{'teacher_id': 1356176, 'language': 'english'...</td>\n",
       "      <td>1356176</td>\n",
       "      <td>I have many courses (Spanish/English) and two ...</td>\n",
       "    </tr>\n",
       "  </tbody>\n",
       "</table>\n",
       "</div>"
      ],
      "text/plain": [
       "                                            about_me  \\\n",
       "0  My job is my passion! I like teaching language...   \n",
       "1  Hello!\\nMy name is Svetlana. I am from Russia....   \n",
       "2  I am a very curious and creative person. I lov...   \n",
       "3  I am a professional teacher with more than 10 ...   \n",
       "4  I am a bilingual English teacher with a teachi...   \n",
       "5  Hi, I am a native speaker from South Africa. I...   \n",
       "6  ✔ Speak Spanish with confidence, fluency, and ...   \n",
       "\n",
       "                                       about_teacher country  \\\n",
       "0  I have been teaching Greek, English and French...      GR   \n",
       "1  My first teaching experience was long time ago...      RU   \n",
       "2  * I love talking about different topics, learn...      BR   \n",
       "3  I have been teaching languages since my second...      ES   \n",
       "4  I'd love to work with you if you:\\n\\n*** are a...      ZZ   \n",
       "5  I tend to structure my sessions according to m...      ZA   \n",
       "6  As a certified teacher for teaching, I have ex...      BO   \n",
       "\n",
       "   finished_session                                       introduction  \\\n",
       "0              1054  I am a professional online English and French ...   \n",
       "1               670                                                      \n",
       "2               935  // PORTUGUÊS \\nEu ensino inglês e português, a...   \n",
       "3               573  I have been teaching languages since my second...   \n",
       "4               246                                                      \n",
       "5              7706  About me:\\nI am an experienced English teacher...   \n",
       "6              2005  Thanks for to visit my profile. Spanish and En...   \n",
       "\n",
       "   package  price_1h                                  pro_course_detail  \\\n",
       "0     18.0      20.0  [{'teacher_id': 1642736, 'language': 'english'...   \n",
       "1     17.0      18.0  [{'teacher_id': 1810343, 'language': 'english'...   \n",
       "2     19.0      20.0  [{'teacher_id': 2929765, 'language': 'english'...   \n",
       "3     15.3      17.0  [{'teacher_id': 4773880, 'language': 'english'...   \n",
       "4     19.0      19.0  [{'teacher_id': 5335629, 'language': 'english'...   \n",
       "5     14.0      16.0  [{'teacher_id': 1169629, 'language': 'english'...   \n",
       "6     12.0      12.0  [{'teacher_id': 1356176, 'language': 'english'...   \n",
       "\n",
       "   teacher_id                                     teaching_style  \n",
       "0     1642736  I am trying to cover in an hour as much as I c...  \n",
       "1     1810343  Every course starts with a small talk where I ...  \n",
       "2     2929765  English - EXCLUSIVE WEB PLATFORM / PLATAFORMA ...  \n",
       "3     4773880  My style is really communicative and always ma...  \n",
       "4     5335629  When you learn English with me:\\n\\n✓ you SPEAK...  \n",
       "5     1169629  *Informal Tutoring:\\nConversation practice (he...  \n",
       "6     1356176  I have many courses (Spanish/English) and two ...  "
      ]
     },
     "execution_count": 16,
     "metadata": {},
     "output_type": "execute_result"
    }
   ],
   "source": [
    "df.head(10)"
   ]
  },
  {
   "cell_type": "code",
   "execution_count": 17,
   "metadata": {},
   "outputs": [],
   "source": [
    "\n",
    "lang = 'english'\n",
    "def get_reviews(t_id):\n",
    "    req = requests.get(f'url',\n",
    "                       timeout=60)\n",
    "    response = req.json()\n",
    "    sleep(randint(1, 3))\n",
    "    reviews = [(x['lesson_count'],\n",
    "                x['user_info']['user_id'],\n",
    "                x['comment_info']['content']) for x in response['data']\n",
    "               if x['comment_info']['session_language'] == lang]\n",
    "    user_set = set()\n",
    "    cleared_reviews = []\n",
    "    for (lesson_count, user_id, content) in reviews:\n",
    "        if user_id in user_set or lesson_count==1:\n",
    "            continue\n",
    "        try:\n",
    "            lng = detect(content)\n",
    "        except Exception as e:\n",
    "            lng = False\n",
    "        if lng == 'en':\n",
    "            cleared_reviews.append(\n",
    "                ({'lesson_count': lesson_count, 'review': content}))\n",
    "    return cleared_reviews"
   ]
  },
  {
   "cell_type": "code",
   "execution_count": 18,
   "metadata": {},
   "outputs": [],
   "source": [
    "reviews = [get_reviews(teacher_id) for teacher_id in df.teacher_id]"
   ]
  },
  {
   "cell_type": "code",
   "execution_count": 19,
   "metadata": {},
   "outputs": [],
   "source": [
    "df['reviews'] = reviews"
   ]
  },
  {
   "cell_type": "code",
   "execution_count": null,
   "metadata": {},
   "outputs": [],
   "source": []
  },
  {
   "cell_type": "markdown",
   "metadata": {},
   "source": [
    "## an average number of lessons"
   ]
  },
  {
   "cell_type": "code",
   "execution_count": 20,
   "metadata": {},
   "outputs": [
    {
     "name": "stderr",
     "output_type": "stream",
     "text": [
      "/home/user/devel/projects/flaty/parser/env/lib/python3.7/site-packages/numpy/core/fromnumeric.py:3257: RuntimeWarning: Mean of empty slice.\n",
      "  out=out, **kwargs)\n",
      "/home/user/devel/projects/flaty/parser/env/lib/python3.7/site-packages/numpy/core/_methods.py:161: RuntimeWarning: invalid value encountered in double_scalars\n",
      "  ret = ret.dtype.type(ret / rcount)\n"
     ]
    }
   ],
   "source": [
    "df['avg_lessons'] = 0.0\n",
    "for i, row in df.iterrows():\n",
    "    reviews = row['reviews']\n",
    "    num_of_lessons = [x['lesson_count'] for x in reviews]\n",
    "    df.at[i, 'avg_lessons'] = np.mean(num_of_lessons)\n",
    "\n",
    " "
   ]
  },
  {
   "cell_type": "code",
   "execution_count": 21,
   "metadata": {},
   "outputs": [
    {
     "data": {
      "text/plain": [
       "<matplotlib.axes._subplots.AxesSubplot at 0x7f80c29c2210>"
      ]
     },
     "execution_count": 21,
     "metadata": {},
     "output_type": "execute_result"
    },
    {
     "data": {
      "image/png": "[encoded data removed]",
      "text/plain": [
       "<Figure size 1080x792 with 1 Axes>"
      ]
     },
     "metadata": {
      "needs_background": "light"
     },
     "output_type": "display_data"
    }
   ],
   "source": [
    "f, ax = plt.subplots(figsize=(15, 11))\n",
    "sns.stripplot(y=\"avg_lessons\", x=\"country\",size=8, data=df)   "
   ]
  },
  {
   "cell_type": "markdown",
   "metadata": {},
   "source": [
    "## Complex structures"
   ]
  },
  {
   "cell_type": "code",
   "execution_count": 22,
   "metadata": {},
   "outputs": [],
   "source": [
    "stop_words = set(stopwords.words('english'))\n",
    "have_no_meaning = ['thank', 'thanks', 'good', 'great', 'amazing', 'very']\n",
    "stop_words.update(have_no_meaning)\n",
    "def count_complexity_of_expresion(sentence):\n",
    "    text = word_tokenize(sentence)\n",
    "    tagged = pos_tag(text)\n",
    "\n",
    "    tense = {'PastParticiple': 0, \"Future/Conditional\": 0}\n",
    "    for word, tag in tagged:\n",
    "        if tag == \"VBN\":\n",
    "            tense[\"PastParticiple\"] += 1\n",
    "        elif tag == 'VBC':\n",
    "            tense[\"Future/Conditional\"] += 1           \n",
    "    return tense"
   ]
  },
  {
   "cell_type": "code",
   "execution_count": 23,
   "metadata": {},
   "outputs": [],
   "source": [
    "\n",
    "\n",
    "df['adapted_complexity_of_speech'] = 0.0\n",
    "for i, row in df.iterrows():   \n",
    "    reviews = row['reviews']\n",
    "    complexity = []\n",
    "    weights = []\n",
    "    \n",
    "    for about_review in reviews:\n",
    "        review = about_review['review']\n",
    "        lesson_count = about_review['lesson_count']\n",
    "        complexity_of_expresion = count_complexity_of_expresion(review)\n",
    "        complexity.append(sum(complexity_of_expresion.values()))\n",
    "        \n",
    "    complexity_index = np.mean(complexity)/row.finished_session\n",
    "    df.at[i, 'adapted_complexity_of_speech'] = complexity_index \n"
   ]
  },
  {
   "cell_type": "code",
   "execution_count": 24,
   "metadata": {},
   "outputs": [
    {
     "data": {
      "text/plain": [
       "<matplotlib.axes._subplots.AxesSubplot at 0x7f80c161ed90>"
      ]
     },
     "execution_count": 24,
     "metadata": {},
     "output_type": "execute_result"
    },
    {
     "data": {
      "image/png": "[encoded data removed]",
      "text/plain": [
       "<Figure size 1080x792 with 1 Axes>"
      ]
     },
     "metadata": {
      "needs_background": "light"
     },
     "output_type": "display_data"
    }
   ],
   "source": [
    "\n",
    "f, ax = plt.subplots(figsize=(15, 11))\n",
    "sns.stripplot(y=\"adapted_complexity_of_speech\", x=\"country\",size=8, data=df)"
   ]
  },
  {
   "cell_type": "markdown",
   "metadata": {},
   "source": [
    "## An automatic classification of English learner proficiency"
   ]
  },
  {
   "cell_type": "code",
   "execution_count": 25,
   "metadata": {},
   "outputs": [
    {
     "name": "stdout",
     "output_type": "stream",
     "text": [
      "WARNING:tensorflow:From /home/user/devel/projects/flaty/parser/env/lib/python3.7/site-packages/keras/backend/tensorflow_backend.py:422: The name tf.global_variables is deprecated. Please use tf.compat.v1.global_variables instead.\n",
      "\n"
     ]
    }
   ],
   "source": [
    "model = load_model('model.h5')"
   ]
  },
  {
   "cell_type": "code",
   "execution_count": 26,
   "metadata": {},
   "outputs": [],
   "source": [
    "\n",
    "with open('tokenizer.pickle', 'rb') as handle:\n",
    "    tokenizer = pickle.load(handle)"
   ]
  },
  {
   "cell_type": "code",
   "execution_count": 27,
   "metadata": {},
   "outputs": [],
   "source": [
    "REPLACE_BY_SPACE_RE = re.compile('[/(){}\\[\\]\\|@,;]')\n",
    "BAD_SYMBOLS_RE = re.compile('[^0-9a-z #+_]')\n",
    "def clean_text(text):\n",
    "    text = text.lower() # lowercase text\n",
    "    text = REPLACE_BY_SPACE_RE.sub(' ', text) \n",
    "    text = BAD_SYMBOLS_RE.sub('', text) \n",
    "    text = ' '.join(word for word in text.split() if word not in stop_words) \n",
    "    return text"
   ]
  },
  {
   "cell_type": "code",
   "execution_count": 28,
   "metadata": {},
   "outputs": [],
   "source": [
    "\n",
    "labels = [\"A1\",\"A2\",\"B1\",\"B2\",\"C1\",\"C2\"]\n",
    "MAX_SEQUENCE_LENGTH=250\n",
    "def to_asses_level(text):\n",
    "    original_text = text\n",
    "    text = clean_text(text)\n",
    "    text = word_tokenize(text)\n",
    "    \n",
    "\n",
    "    seq = tokenizer.texts_to_sequences([text])\n",
    "    padded = pad_sequences(seq, maxlen=MAX_SEQUENCE_LENGTH)\n",
    "    pred = model.predict(padded)\n",
    "    \n",
    "    CEFR_level =labels[np.argmax(pred)]\n",
    "    return CEFR_level\n",
    "    "
   ]
  },
  {
   "cell_type": "code",
   "execution_count": 29,
   "metadata": {},
   "outputs": [],
   "source": [
    "a_part_of_my_latest_essay = '''It is a well-known fact that digital world is coming true.\n",
    "                               A lot of things in our life, such as newspapers or magazines, \n",
    "                               have their digital analogues. \n",
    "                               Moreover the digital expansion could replace a basic column of society \n",
    "                               – libraries. I suppose it would be the greatest misleading –\n",
    "                               to consider online as alternative.'''"
   ]
  },
  {
   "cell_type": "code",
   "execution_count": 30,
   "metadata": {},
   "outputs": [
    {
     "data": {
      "text/plain": [
       "'B2'"
      ]
     },
     "execution_count": 30,
     "metadata": {},
     "output_type": "execute_result"
    }
   ],
   "source": [
    "to_asses_level(a_part_of_my_latest_essay)"
   ]
  },
  {
   "cell_type": "code",
   "execution_count": 31,
   "metadata": {},
   "outputs": [],
   "source": [
    "df['avg_assesed_level'] = 0.0\n",
    "for i, row in df.iterrows():\n",
    "    reviews = row['reviews']\n",
    "    weights = []\n",
    "    amount_of_words = []\n",
    "    for idx,about_review in enumerate(reviews):\n",
    "        lesson_count = about_review['lesson_count']\n",
    "        review = about_review['review']\n",
    "        assesed_level = to_asses_level(review)\n",
    "        if assesed_level in ['A1','A2','B1']:\n",
    "            score = 0\n",
    "        elif assesed_level in ['B2']:\n",
    "            score = 1\n",
    "        elif assesed_level in ['C1','C2']:\n",
    "            score = 2\n",
    "            \n",
    "        amount_of_words.append(score)\n",
    "        weights.append(lesson_count)\n",
    "\n",
    "    if weights and amount_of_words:\n",
    "        expressiveness_of_review = np.average(amount_of_words, weights=weights)\n",
    "        df.at[i, 'avg_assesed_level'] = expressiveness_of_review"
   ]
  },
  {
   "cell_type": "code",
   "execution_count": 32,
   "metadata": {},
   "outputs": [
    {
     "data": {
      "text/plain": [
       "<matplotlib.axes._subplots.AxesSubplot at 0x7f80315352d0>"
      ]
     },
     "execution_count": 32,
     "metadata": {},
     "output_type": "execute_result"
    },
    {
     "data": {
      "image/png": "[encoded data removed]",
      "text/plain": [
       "<Figure size 1080x792 with 1 Axes>"
      ]
     },
     "metadata": {
      "needs_background": "light"
     },
     "output_type": "display_data"
    }
   ],
   "source": [
    "\n",
    "f, ax = plt.subplots(figsize=(15, 11))\n",
    "sns.stripplot(y=\"avg_assesed_level\", x=\"country\", size=8,data=df)"
   ]
  },
  {
   "cell_type": "code",
   "execution_count": 33,
   "metadata": {},
   "outputs": [],
   "source": [
    "forth_step = 'step_4.json'\n",
    "df.to_json(forth_step, orient='records')"
   ]
  },
  {
   "cell_type": "code",
   "execution_count": null,
   "metadata": {},
   "outputs": [],
   "source": []
  },
  {
   "cell_type": "markdown",
   "metadata": {},
   "source": [
    "# Step4. Visualization+analysis"
   ]
  },
  {
   "cell_type": "code",
   "execution_count": 34,
   "metadata": {},
   "outputs": [],
   "source": [
    "forth_step = 'step_4.json'\n",
    "with open(forth_step) as json_data:\n",
    "    records = json.loads(json_data.read())\n",
    "df = pd.DataFrame.from_records(records)\n",
    "df = df.fillna(0)"
   ]
  },
  {
   "cell_type": "code",
   "execution_count": 35,
   "metadata": {},
   "outputs": [],
   "source": [
    "df['avg_lessons'] = df['avg_lessons'].rank()\n",
    "df['adapted_complexity_of_speech'] = df['adapted_complexity_of_speech'].rank()\n",
    "df['avg_assesed_level'] = df['avg_assesed_level'].rank()"
   ]
  },
  {
   "cell_type": "code",
   "execution_count": 36,
   "metadata": {},
   "outputs": [],
   "source": [
    "df[\"score\"] = df[['adapted_complexity_of_speech', 'avg_lessons','avg_assesed_level']].sum(axis=1)"
   ]
  },
  {
   "cell_type": "code",
   "execution_count": 37,
   "metadata": {},
   "outputs": [
    {
     "data": {
      "image/png": "[encoded data removed]",
      "text/plain": [
       "<Figure size 1080x792 with 1 Axes>"
      ]
     },
     "metadata": {
      "needs_background": "light"
     },
     "output_type": "display_data"
    }
   ],
   "source": [
    "\n",
    "f, ax = plt.subplots(figsize=(15, 11))\n",
    "ax = sns.swarmplot(y=\"score\", x=\"country\",size=8, data=df)\n",
    "for i, row in df.iterrows():\n",
    "    price = row.price_1h\n",
    "    price_in_package = row.package\n",
    "    ax.annotate(f'{int(price)}/{price_in_package}'+f'$\\nID {row.score} points', (i + 0.1,row.score),size=10)"
   ]
  }
 ],
 "metadata": {
  "kernelspec": {
   "display_name": "Python 3",
   "language": "python",
   "name": "python3"
  },
  "language_info": {
   "codemirror_mode": {
    "name": "ipython",
    "version": 3
   },
   "file_extension": ".py",
   "mimetype": "text/x-python",
   "name": "python",
   "nbconvert_exporter": "python",
   "pygments_lexer": "ipython3",
   "version": "3.7.5"
  }
 },
 "nbformat": 4,
 "nbformat_minor": 1
}
