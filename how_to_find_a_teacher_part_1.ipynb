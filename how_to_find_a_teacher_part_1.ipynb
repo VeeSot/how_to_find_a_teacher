{
 "cells": [
  {
   "cell_type": "code",
   "execution_count": 1,
   "metadata": {},
   "outputs": [],
   "source": [
    "import json\n",
    "import pandas as pd\n",
    "import matplotlib.pyplot as plt\n",
    "import seaborn as sns\n",
    "import numpy as np\n",
    "import re\n",
    "\n",
    "sns.set(style=\"darkgrid\")"
   ]
  },
  {
   "cell_type": "markdown",
   "metadata": {},
   "source": [
    "# Step 1. A rough filter"
   ]
  },
  {
   "cell_type": "code",
   "execution_count": 2,
   "metadata": {},
   "outputs": [],
   "source": [
    "step_1 = 'step_1.json'\n",
    "with open(step_1) as json_data:\n",
    "    records = json.loads(json_data.read())\n",
    "df = pd.DataFrame.from_records(records)\n",
    "df = df.drop(columns=['living_country_id','pro_rating','language_strength',\n",
    "                      'hour_per_week','finished_session_last_3_months','nickname'])\n",
    "df['teacher_id'] = df['user_id']\n",
    "df['country'] = df['origin_country_id']\n",
    "df.drop(columns=['origin_country_id','user_id'], inplace=True)\n",
    "\n",
    "\n"
   ]
  },
  {
   "cell_type": "code",
   "execution_count": 3,
   "metadata": {},
   "outputs": [
    {
     "data": {
      "text/html": [
       "<div>\n",
       "<style scoped>\n",
       "    .dataframe tbody tr th:only-of-type {\n",
       "        vertical-align: middle;\n",
       "    }\n",
       "\n",
       "    .dataframe tbody tr th {\n",
       "        vertical-align: top;\n",
       "    }\n",
       "\n",
       "    .dataframe thead th {\n",
       "        text-align: right;\n",
       "    }\n",
       "</style>\n",
       "<table border=\"1\" class=\"dataframe\">\n",
       "  <thead>\n",
       "    <tr style=\"text-align: right;\">\n",
       "      <th></th>\n",
       "      <th>about_me</th>\n",
       "      <th>about_teacher</th>\n",
       "      <th>finished_session</th>\n",
       "      <th>introduction</th>\n",
       "      <th>pro_course_detail</th>\n",
       "      <th>teaching_style</th>\n",
       "      <th>teacher_id</th>\n",
       "      <th>country</th>\n",
       "    </tr>\n",
       "  </thead>\n",
       "  <tbody>\n",
       "    <tr>\n",
       "      <th>0</th>\n",
       "      <td>Hello everyone!\\nMy name is Jeremy. I'm a nati...</td>\n",
       "      <td>I currently also work for a global language sc...</td>\n",
       "      <td>22</td>\n",
       "      <td></td>\n",
       "      <td>[{'teacher_id': 5754348, 'language': 'english'...</td>\n",
       "      <td>My main goal with students is to improve their...</td>\n",
       "      <td>5754348</td>\n",
       "      <td>CA</td>\n",
       "    </tr>\n",
       "    <tr>\n",
       "      <th>1</th>\n",
       "      <td>My name is Dave and I'm a CELTA and TEFL certi...</td>\n",
       "      <td>I have been teaching English as a foreign lang...</td>\n",
       "      <td>1198</td>\n",
       "      <td></td>\n",
       "      <td>[{'teacher_id': 3019343, 'language': 'english'...</td>\n",
       "      <td>Having reached the C2 level in Spanish, I have...</td>\n",
       "      <td>3019343</td>\n",
       "      <td>US</td>\n",
       "    </tr>\n",
       "    <tr>\n",
       "      <th>2</th>\n",
       "      <td>Hello!\\nMy name is Ryan and I have been an ESL...</td>\n",
       "      <td>I have been teaching English for 3 years. In T...</td>\n",
       "      <td>137</td>\n",
       "      <td></td>\n",
       "      <td>[{'teacher_id': 6512293, 'language': 'english'...</td>\n",
       "      <td>You will notice that I put a lot of focus on p...</td>\n",
       "      <td>6512293</td>\n",
       "      <td>CA</td>\n",
       "    </tr>\n",
       "    <tr>\n",
       "      <th>3</th>\n",
       "      <td>I am a qualified language teacher. I hold an M...</td>\n",
       "      <td>As a tutor, I try to stay open to new ideas an...</td>\n",
       "      <td>108</td>\n",
       "      <td></td>\n",
       "      <td>[{'teacher_id': 4089517, 'language': 'english'...</td>\n",
       "      <td>My classes are well structured and based on th...</td>\n",
       "      <td>4089517</td>\n",
       "      <td>AM</td>\n",
       "    </tr>\n",
       "    <tr>\n",
       "      <th>4</th>\n",
       "      <td>My name is Sarah and I'm from Cornwall in the ...</td>\n",
       "      <td>I have been teaching since 2013 when I went to...</td>\n",
       "      <td>97</td>\n",
       "      <td></td>\n",
       "      <td>[{'teacher_id': 6581705, 'language': 'english'...</td>\n",
       "      <td>I teach all levels. The lessons are designed f...</td>\n",
       "      <td>6581705</td>\n",
       "      <td>GB</td>\n",
       "    </tr>\n",
       "  </tbody>\n",
       "</table>\n",
       "</div>"
      ],
      "text/plain": [
       "                                            about_me  \\\n",
       "0  Hello everyone!\\nMy name is Jeremy. I'm a nati...   \n",
       "1  My name is Dave and I'm a CELTA and TEFL certi...   \n",
       "2  Hello!\\nMy name is Ryan and I have been an ESL...   \n",
       "3  I am a qualified language teacher. I hold an M...   \n",
       "4  My name is Sarah and I'm from Cornwall in the ...   \n",
       "\n",
       "                                       about_teacher  finished_session  \\\n",
       "0  I currently also work for a global language sc...                22   \n",
       "1  I have been teaching English as a foreign lang...              1198   \n",
       "2  I have been teaching English for 3 years. In T...               137   \n",
       "3  As a tutor, I try to stay open to new ideas an...               108   \n",
       "4  I have been teaching since 2013 when I went to...                97   \n",
       "\n",
       "  introduction                                  pro_course_detail  \\\n",
       "0               [{'teacher_id': 5754348, 'language': 'english'...   \n",
       "1               [{'teacher_id': 3019343, 'language': 'english'...   \n",
       "2               [{'teacher_id': 6512293, 'language': 'english'...   \n",
       "3               [{'teacher_id': 4089517, 'language': 'english'...   \n",
       "4               [{'teacher_id': 6581705, 'language': 'english'...   \n",
       "\n",
       "                                      teaching_style  teacher_id country  \n",
       "0  My main goal with students is to improve their...     5754348      CA  \n",
       "1  Having reached the C2 level in Spanish, I have...     3019343      US  \n",
       "2  You will notice that I put a lot of focus on p...     6512293      CA  \n",
       "3  My classes are well structured and based on th...     4089517      AM  \n",
       "4  I teach all levels. The lessons are designed f...     6581705      GB  "
      ]
     },
     "execution_count": 3,
     "metadata": {},
     "output_type": "execute_result"
    }
   ],
   "source": [
    "df.head()"
   ]
  },
  {
   "cell_type": "code",
   "execution_count": 4,
   "metadata": {},
   "outputs": [
    {
     "data": {
      "text/html": [
       "<div>\n",
       "<style scoped>\n",
       "    .dataframe tbody tr th:only-of-type {\n",
       "        vertical-align: middle;\n",
       "    }\n",
       "\n",
       "    .dataframe tbody tr th {\n",
       "        vertical-align: top;\n",
       "    }\n",
       "\n",
       "    .dataframe thead th {\n",
       "        text-align: right;\n",
       "    }\n",
       "</style>\n",
       "<table border=\"1\" class=\"dataframe\">\n",
       "  <thead>\n",
       "    <tr style=\"text-align: right;\">\n",
       "      <th></th>\n",
       "      <th>finished_session</th>\n",
       "      <th>teacher_id</th>\n",
       "    </tr>\n",
       "  </thead>\n",
       "  <tbody>\n",
       "    <tr>\n",
       "      <th>count</th>\n",
       "      <td>1000.000000</td>\n",
       "      <td>1.000000e+03</td>\n",
       "    </tr>\n",
       "    <tr>\n",
       "      <th>mean</th>\n",
       "      <td>1253.193000</td>\n",
       "      <td>4.126967e+06</td>\n",
       "    </tr>\n",
       "    <tr>\n",
       "      <th>std</th>\n",
       "      <td>1825.903209</td>\n",
       "      <td>1.784199e+06</td>\n",
       "    </tr>\n",
       "    <tr>\n",
       "      <th>min</th>\n",
       "      <td>0.000000</td>\n",
       "      <td>1.297730e+05</td>\n",
       "    </tr>\n",
       "    <tr>\n",
       "      <th>25%</th>\n",
       "      <td>162.750000</td>\n",
       "      <td>2.882794e+06</td>\n",
       "    </tr>\n",
       "    <tr>\n",
       "      <th>50%</th>\n",
       "      <td>614.000000</td>\n",
       "      <td>4.347498e+06</td>\n",
       "    </tr>\n",
       "    <tr>\n",
       "      <th>75%</th>\n",
       "      <td>1672.500000</td>\n",
       "      <td>5.663898e+06</td>\n",
       "    </tr>\n",
       "    <tr>\n",
       "      <th>max</th>\n",
       "      <td>15921.000000</td>\n",
       "      <td>6.896142e+06</td>\n",
       "    </tr>\n",
       "  </tbody>\n",
       "</table>\n",
       "</div>"
      ],
      "text/plain": [
       "       finished_session    teacher_id\n",
       "count       1000.000000  1.000000e+03\n",
       "mean        1253.193000  4.126967e+06\n",
       "std         1825.903209  1.784199e+06\n",
       "min            0.000000  1.297730e+05\n",
       "25%          162.750000  2.882794e+06\n",
       "50%          614.000000  4.347498e+06\n",
       "75%         1672.500000  5.663898e+06\n",
       "max        15921.000000  6.896142e+06"
      ]
     },
     "execution_count": 4,
     "metadata": {},
     "output_type": "execute_result"
    }
   ],
   "source": [
    "df.describe()"
   ]
  },
  {
   "cell_type": "code",
   "execution_count": null,
   "metadata": {},
   "outputs": [],
   "source": []
  },
  {
   "cell_type": "code",
   "execution_count": 5,
   "metadata": {},
   "outputs": [],
   "source": [
    "df['price_1h'] = 0.0\n",
    "df['package'] = 0.0\n",
    "hour_session_id = 4\n",
    "for i, row in df.iterrows():\n",
    "    classes = row.pro_course_detail\n",
    "    if not classes:\n",
    "        continue\n",
    "    for _class in classes:\n",
    "        title = _class['title']\n",
    "        if 'FCE' in title or 'CAE' in title or 'Cambridge' in title \\\n",
    "                or 'Exam' in title:\n",
    "            prices_list = _class['price_list']\n",
    "            for price in prices_list:\n",
    "                if price['session_length'] == hour_session_id:\n",
    "                    df.at[i, 'price_1h'] = price['session_price']\n",
    "                    package = price.get('package_price')\n",
    "                    if package:\n",
    "                        package_size = price['package_length']\n",
    "                        df.at[i, 'package'] = package/package_size/100\n",
    "                    else:\n",
    "                        df.at[i, 'package'] = price['session_price']/100\n",
    "\n",
    "df['price_1h'] = df['price_1h'].astype(float)\n",
    "df['package'] = df['package'].astype(float)\n",
    "df = df[df['price_1h'] > 0]\n",
    "df['price_1h'] = df['price_1h'] / 100\n",
    "df = df[df['package'] <= 20]"
   ]
  },
  {
   "cell_type": "code",
   "execution_count": 6,
   "metadata": {
    "scrolled": false
   },
   "outputs": [
    {
     "data": {
      "text/plain": [
       "<matplotlib.axes._subplots.AxesSubplot at 0x7fb048dcc750>"
      ]
     },
     "execution_count": 6,
     "metadata": {},
     "output_type": "execute_result"
    },
    {
     "data": {
      "image/png": "[encoded data removed]",
      "text/plain": [
       "<Figure size 1080x792 with 1 Axes>"
      ]
     },
     "metadata": {
      "needs_background": "light"
     },
     "output_type": "display_data"
    }
   ],
   "source": [
    "f, g = plt.subplots(figsize=(15, 11))\n",
    "sns.countplot(x='country', data=df, order=df['country'].value_counts().index)\n"
   ]
  },
  {
   "cell_type": "code",
   "execution_count": 7,
   "metadata": {
    "scrolled": true
   },
   "outputs": [],
   "source": [
    "second_step = 'step_2.json'\n",
    "df.to_json(second_step, orient='records')"
   ]
  },
  {
   "cell_type": "markdown",
   "metadata": {},
   "source": [
    "# Step 2. Filtering by description"
   ]
  },
  {
   "cell_type": "code",
   "execution_count": 8,
   "metadata": {},
   "outputs": [],
   "source": [
    "with open(second_step) as json_data:\n",
    "    records = json.loads(json_data.read())\n",
    "df = pd.DataFrame.from_records(records)"
   ]
  },
  {
   "cell_type": "code",
   "execution_count": 9,
   "metadata": {},
   "outputs": [],
   "source": [
    "def filter_df(df, word, fields):\n",
    "    mask_size = df.shape[0]\n",
    "    mask = np.zeros(mask_size, dtype=bool)\n",
    "    for field in fields:\n",
    "        sub_mask = df[field].str.contains(word, flags=re.IGNORECASE)\n",
    "        mask = mask | sub_mask\n",
    "    return mask"
   ]
  },
  {
   "cell_type": "code",
   "execution_count": 10,
   "metadata": {},
   "outputs": [],
   "source": [
    "description_fields = ['introduction', 'about_me', 'about_teacher',\n",
    "                      'teaching_style']"
   ]
  },
  {
   "cell_type": "code",
   "execution_count": 11,
   "metadata": {},
   "outputs": [],
   "source": [
    "mask1 = filter_df(df, \"I've been teaching\", description_fields)\n",
    "mask2 = filter_df(df, 'I have been teaching', description_fields)\n",
    "mask3 = filter_df(df, 'Homework', description_fields)\n",
    "mask = (mask1 | mask2) & mask3"
   ]
  },
  {
   "cell_type": "code",
   "execution_count": 12,
   "metadata": {},
   "outputs": [],
   "source": [
    "df = df[mask]"
   ]
  },
  {
   "cell_type": "code",
   "execution_count": 13,
   "metadata": {},
   "outputs": [
    {
     "data": {
      "text/plain": [
       "<matplotlib.axes._subplots.AxesSubplot at 0x7fb049392250>"
      ]
     },
     "execution_count": 13,
     "metadata": {},
     "output_type": "execute_result"
    },
    {
     "data": {
      "image/png": "[encoded data removed]",
      "text/plain": [
       "<Figure size 576x576 with 1 Axes>"
      ]
     },
     "metadata": {},
     "output_type": "display_data"
    }
   ],
   "source": [
    "countries = df.groupby('country').size()\n",
    "countries.plot(kind='pie', title='Number of teachers from different countries',\n",
    "               figsize=[8, 8],\n",
    "               autopct=lambda v: '{:.0f}'.format((v / 100) * countries.sum()))"
   ]
  }
 ],
 "metadata": {
  "kernelspec": {
   "display_name": "Python 3",
   "language": "python",
   "name": "python3"
  },
  "language_info": {
   "codemirror_mode": {
    "name": "ipython",
    "version": 3
   },
   "file_extension": ".py",
   "mimetype": "text/x-python",
   "name": "python",
   "nbconvert_exporter": "python",
   "pygments_lexer": "ipython3",
   "version": "3.7.5"
  }
 },
 "nbformat": 4,
 "nbformat_minor": 1
}